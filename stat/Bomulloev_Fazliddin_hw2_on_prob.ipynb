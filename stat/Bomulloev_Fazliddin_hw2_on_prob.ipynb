{
 "cells": [
  {
   "cell_type": "markdown",
   "metadata": {},
   "source": [
    "                        Homework 1 on probability\n",
    "\n",
    "                        Bomulloev Fazliddin"
   ]
  },
  {
   "cell_type": "markdown",
   "metadata": {},
   "source": [
    "1.Макс забыл пароль от своего телефона. Пароль состоял из пяти значений, каждое из которых может быть цифрой от 0 до 9. Сколько всего вариантов должен перебрать Макс, чтобы подобрать пароль к своему телефону?"
   ]
  },
  {
   "cell_type": "code",
   "execution_count": 1,
   "metadata": {},
   "outputs": [
    {
     "name": "stdout",
     "output_type": "stream",
     "text": [
      "Максу нужно перебрать 100000 вариантов, чтобы подобрать пароль.\n"
     ]
    }
   ],
   "source": [
    "# Решение\n",
    "password_len = 5\n",
    "numbers = 10\n",
    "\n",
    "total_combinations = numbers ** password_len\n",
    "print(f\"Максу нужно перебрать {total_combinations} вариантов, чтобы подобрать пароль.\")"
   ]
  },
  {
   "cell_type": "markdown",
   "metadata": {},
   "source": [
    "2.У Малики есть все семь книг серии о Гарри Поттере. Сколькими способами она может расставить эти книги на полке?"
   ]
  },
  {
   "cell_type": "code",
   "execution_count": 2,
   "metadata": {},
   "outputs": [
    {
     "name": "stdout",
     "output_type": "stream",
     "text": [
      "Она может расставить книги 5040 способами\n"
     ]
    }
   ],
   "source": [
    "# Решение\n",
    "from math import factorial\n",
    "books = 7\n",
    "\n",
    "total_combs = factorial(books)\n",
    "\n",
    "print(f'Она может расставить книги {total_combs} способами')"
   ]
  },
  {
   "cell_type": "markdown",
   "metadata": {},
   "source": [
    "3. На окружности круга размещены 9 точек. Сколько можно провести линий, соединяющих эти точки?"
   ]
  },
  {
   "cell_type": "code",
   "execution_count": 3,
   "metadata": {},
   "outputs": [
    {
     "name": "stdout",
     "output_type": "stream",
     "text": [
      "Можно провести 36.0 линий\n"
     ]
    }
   ],
   "source": [
    "# Решение\n",
    "points = 9\n",
    "\n",
    "lines = (points * (points - 1)) / 2\n",
    "\n",
    "print(f'Можно провести {lines} линий')"
   ]
  },
  {
   "cell_type": "markdown",
   "metadata": {},
   "source": [
    "4. Транс-Сибирская железнодорожная магистраль тянется от Москвы до Владивостока. Всего, магистраль состоит из 19 станций. На билете указывается станция отбытия и станция пребытия. Сколько всего вариантов билетов существует?"
   ]
  },
  {
   "cell_type": "code",
   "execution_count": 4,
   "metadata": {},
   "outputs": [
    {
     "name": "stdout",
     "output_type": "stream",
     "text": [
      "Существует 171.0 вариантов билетов\n"
     ]
    }
   ],
   "source": [
    "# Решение\n",
    "\n",
    "stations = 19\n",
    "\n",
    "variants = (stations * (stations - 1) / 2)\n",
    "\n",
    "print(f'Существует {variants} вариантов билетов')"
   ]
  },
  {
   "cell_type": "markdown",
   "metadata": {},
   "source": [
    "5. Вы работаете в команде из 13 человек. Ваш менеджер решает рандомно выбрать 3 человек из команды и отправить на конференцию в Анталию, которая будет длится 4 дня. Какова вероятность того, что вам посчастливится поехать на конференцию?"
   ]
  },
  {
   "cell_type": "code",
   "execution_count": 5,
   "metadata": {},
   "outputs": [
    {
     "name": "stdout",
     "output_type": "stream",
     "text": [
      "Вероятность того что вас выберут составляет 0.23076923076923078\n"
     ]
    }
   ],
   "source": [
    "# Решение\n",
    "\n",
    "people = 13\n",
    "choices = 3\n",
    "\n",
    "total_choices = factorial(people) / (factorial(choices) * factorial(people - choices))\n",
    "# Количество оставшихся человек и мест, если ваш уже выбрали\n",
    "people_1 = people - 1\n",
    "choices_1 = choices - 1\n",
    "\n",
    "choices_without_you = factorial(people_1) / (factorial(choices_1) * factorial(people_1 - choices_1))\n",
    "\n",
    "probability = choices_without_you / total_choices\n",
    "\n",
    "print(f'Вероятность того что вас выберут составляет {probability}')"
   ]
  }
 ],
 "metadata": {
  "kernelspec": {
   "display_name": "Python 3",
   "language": "python",
   "name": "python3"
  },
  "language_info": {
   "codemirror_mode": {
    "name": "ipython",
    "version": 3
   },
   "file_extension": ".py",
   "mimetype": "text/x-python",
   "name": "python",
   "nbconvert_exporter": "python",
   "pygments_lexer": "ipython3",
   "version": "3.12.1"
  }
 },
 "nbformat": 4,
 "nbformat_minor": 2
}
