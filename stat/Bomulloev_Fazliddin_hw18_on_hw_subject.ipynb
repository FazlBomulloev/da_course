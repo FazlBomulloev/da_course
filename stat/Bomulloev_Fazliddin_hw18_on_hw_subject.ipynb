{
 "cells": [
  {
   "cell_type": "markdown",
   "metadata": {},
   "source": [
    "                            Bomulloev Fazliddin\n",
    "                            Homework 18\n",
    "                            "
   ]
  },
  {
   "cell_type": "markdown",
   "metadata": {},
   "source": [
    "1. Четыре монеты подбрасываются разом. Если переменная X это количество полученных орлов, то чему равен \n",
    "P(X=2)?"
   ]
  },
  {
   "cell_type": "code",
   "execution_count": 1,
   "metadata": {},
   "outputs": [
    {
     "name": "stdout",
     "output_type": "stream",
     "text": [
      "P(X = 2) = 0.375\n"
     ]
    }
   ],
   "source": [
    "from math import factorial\n",
    "\n",
    "n = 4  \n",
    "k = 2  \n",
    "p = 0.5  \n",
    "binom_coeff = factorial(n) // (factorial(k) * factorial(n - k))\n",
    "probability = binom_coeff * (p ** k) * ((1 - p) ** (n - k))\n",
    "print(f\"P(X = {k}) = {probability:.3f}\")\n"
   ]
  },
  {
   "cell_type": "markdown",
   "metadata": {},
   "source": [
    "2. Четыре монеты подбрасываются разом. Если переменная X это количество полученных орлов, то чему равен \n",
    "P(X≥1)\n"
   ]
  },
  {
   "cell_type": "code",
   "execution_count": 4,
   "metadata": {},
   "outputs": [
    {
     "name": "stdout",
     "output_type": "stream",
     "text": [
      "P(X >= 1) = 0.938\n"
     ]
    }
   ],
   "source": [
    "n = 4 \n",
    "k = 0  \n",
    "p = 0.5  \n",
    "binom_coeff = factorial(n) // (factorial(k) * factorial(n - k))\n",
    "prob_x_0 = binom_coeff * (p ** k) * ((1 - p) ** (n - k))\n",
    "prob_x_geq_1 = 1 - prob_x_0\n",
    "print(f\"P(X >= 1) = {prob_x_geq_1:.3f}\")"
   ]
  },
  {
   "cell_type": "markdown",
   "metadata": {},
   "source": [
    "3. Вероятность того, что у рандомного человека группа крови А составляет 40%. Выберем случайным образом 4 человек и пусть случайная величина X будет количеством людей с типом крови А. Постройте биномиальное распределение этого эксперимента."
   ]
  },
  {
   "cell_type": "code",
   "execution_count": 8,
   "metadata": {},
   "outputs": [
    {
     "name": "stdout",
     "output_type": "stream",
     "text": [
      "P(X = 0) = 0.1296\n",
      "P(X = 1) = 0.3456\n",
      "P(X = 2) = 0.3456\n",
      "P(X = 3) = 0.1536\n",
      "P(X = 4) = 0.0256\n"
     ]
    }
   ],
   "source": [
    "n = 4  \n",
    "p = 0.4  \n",
    "\n",
    "for k in range(n + 1):\n",
    "    binom_coeff = factorial(n) // (factorial(k) * factorial(n - k))\n",
    "    prob = binom_coeff * (p ** k) * ((1 - p) ** (n - k))\n",
    "    print(f\"P(X = {k}) = {prob:.4f}\")\n"
   ]
  },
  {
   "cell_type": "markdown",
   "metadata": {},
   "source": [
    "4. Известно, что на сайте компании в час в среднем происходит 10 продаж. Какова вероятность того что в любой выбранный час количество продаж составит 8 штук?"
   ]
  },
  {
   "cell_type": "code",
   "execution_count": 12,
   "metadata": {},
   "outputs": [
    {
     "name": "stdout",
     "output_type": "stream",
     "text": [
      "0.113\n"
     ]
    }
   ],
   "source": [
    "from math import exp\n",
    "lambda_ = 10\n",
    "k = 8\n",
    "prob = (lambda_**k * exp(-lambda_)) / factorial(k)\n",
    "print(round(prob, 3))\n"
   ]
  },
  {
   "cell_type": "markdown",
   "metadata": {},
   "source": [
    "5. Игрок в баскетбол исполняет успешно 60% штрафных бросков. Если он выполнит 12 штрафных бросков, какова вероятность того, что он попадёт в цель ровно 10 раз?"
   ]
  },
  {
   "cell_type": "code",
   "execution_count": 13,
   "metadata": {},
   "outputs": [
    {
     "name": "stdout",
     "output_type": "stream",
     "text": [
      "0.064\n"
     ]
    }
   ],
   "source": [
    "n = 12\n",
    "k = 10\n",
    "p = 0.6\n",
    "binom_coeff = factorial(n) // (factorial(k) * factorial(n - k))\n",
    "prob = binom_coeff * (p**k) * ((1 - p)**(n - k))\n",
    "print(round(prob, 3))\n"
   ]
  }
 ],
 "metadata": {
  "kernelspec": {
   "display_name": "Python 3",
   "language": "python",
   "name": "python3"
  },
  "language_info": {
   "codemirror_mode": {
    "name": "ipython",
    "version": 3
   },
   "file_extension": ".py",
   "mimetype": "text/x-python",
   "name": "python",
   "nbconvert_exporter": "python",
   "pygments_lexer": "ipython3",
   "version": "3.12.1"
  }
 },
 "nbformat": 4,
 "nbformat_minor": 2
}
