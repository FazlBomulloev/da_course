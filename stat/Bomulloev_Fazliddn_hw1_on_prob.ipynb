{
 "cells": [
  {
   "cell_type": "markdown",
   "metadata": {},
   "source": [
    "                        Homework 1 on probability\n",
    "\n",
    "                        Bomulloev Fazliddin"
   ]
  },
  {
   "cell_type": "markdown",
   "metadata": {},
   "source": [
    "1. В колоде 52 карты. Мы решили вытащить из неё одну карту. Какова вероятность того, что это будет туз?"
   ]
  },
  {
   "cell_type": "code",
   "execution_count": 1,
   "metadata": {},
   "outputs": [
    {
     "name": "stdout",
     "output_type": "stream",
     "text": [
      "Вероятность вытащить короля : 0.08\n"
     ]
    }
   ],
   "source": [
    "# Решение\n",
    "\n",
    "card_size = 52\n",
    "kings_quantity = 4\n",
    "\n",
    "kings_prob = kings_quantity / card_size\n",
    "print(f'Вероятность вытащить короля : {round(kings_prob, 2)}')"
   ]
  },
  {
   "cell_type": "markdown",
   "metadata": {},
   "source": [
    "2. Какова вероятность того что у трёх случайно выбранных людей будет одинаковая группа крови? Подсказка: для решения этой задачи нужно использовать как правило умножения так и правило сложения."
   ]
  },
  {
   "cell_type": "code",
   "execution_count": 2,
   "metadata": {},
   "outputs": [
    {
     "name": "stdout",
     "output_type": "stream",
     "text": [
      "Вероятность того, что у трёх случайно выбранных людей одинаковая группа крови: 0.1190\n"
     ]
    }
   ],
   "source": [
    "# Решение\n",
    "# Вероятности для каждой группы крови\n",
    "group_probabilities = {\n",
    "    'O': 0.44,\n",
    "    'A': 0.32,\n",
    "    'B': 0.1,\n",
    "    'AB': 0.04\n",
    "}\n",
    "\n",
    "def probability_same_blood_group(group_probabilities):\n",
    "    total_probability = 0\n",
    "    for group, prob in group_probabilities.items():\n",
    "        total_probability += prob ** 3  \n",
    "    return total_probability\n",
    "\n",
    "result = probability_same_blood_group(group_probabilities)\n",
    "print(f\"Вероятность того, что у трёх случайно выбранных людей одинаковая группа крови: {result:.3f}\")\n"
   ]
  },
  {
   "cell_type": "markdown",
   "metadata": {},
   "source": [
    "3. Студент, сдаёт тест состоящий из 30 вопросов с четырьмя вариантами ответов, из которых лишь один правильный. Так как он вообще не посещал лекции, он просто наугад выбирает один из вариантов для каждого вопроса. Какова вероятность что он правильно ответит хотя бы на один вопрос?"
   ]
  },
  {
   "cell_type": "code",
   "execution_count": 5,
   "metadata": {},
   "outputs": [
    {
     "name": "stdout",
     "output_type": "stream",
     "text": [
      "Вероятность того что хотя бы один ответ правильный: 0.99982141790983\n"
     ]
    }
   ],
   "source": [
    "# Решение\n",
    "\n",
    "questions = 30\n",
    "choices = 4\n",
    "\n",
    "wrong_answer_prob = (choices - 1) / choices\n",
    "\n",
    "all_ans_wrong = wrong_answer_prob ** questions\n",
    "\n",
    "one_correct_prob = 1 - all_ans_wrong\n",
    "\n",
    "print(f'Вероятность того что хотя бы один ответ правильный: {one_correct_prob}')"
   ]
  },
  {
   "cell_type": "markdown",
   "metadata": {},
   "source": [
    "4.Какова вероятность что хотя бы у одного из двух случайно выбранных людей месяц рождения такой же как и у вас?"
   ]
  },
  {
   "cell_type": "code",
   "execution_count": 10,
   "metadata": {},
   "outputs": [
    {
     "name": "stdout",
     "output_type": "stream",
     "text": [
      "Вероятность того что хотя бы у одного из них месяц рождения как у меня:  0.16\n"
     ]
    }
   ],
   "source": [
    "# Решение\n",
    "\n",
    "months = 12\n",
    "\n",
    "other_month_prob = (months - 1) / months\n",
    "prob_both_different = other_month_prob ** 2\n",
    "in_one_month_prob = 1 - prob_both_different\n",
    "\n",
    "print(f'Вероятность того что хотя бы у одного из них месяц рождения как у меня: {in_one_month_prob: .2f}')\n",
    "\n",
    "\n",
    "\n",
    "\n",
    "\n",
    "\n",
    "\n"
   ]
  },
  {
   "cell_type": "markdown",
   "metadata": {},
   "source": [
    "5.В колоде 52 карты. Мы решили вытащить из неё одну карту. Какова вероятность того что это будет либо валет, либо пиковая карта?"
   ]
  },
  {
   "cell_type": "code",
   "execution_count": 9,
   "metadata": {},
   "outputs": [
    {
     "name": "stdout",
     "output_type": "stream",
     "text": [
      "Вероятность того что карта будет либо валет либо пиковая составляет: 0.3077\n"
     ]
    }
   ],
   "source": [
    "# Решение\n",
    "\n",
    "total_cards = 52\n",
    "jacks_count = 4\n",
    "num_spades = 13\n",
    "spade_jack = 1\n",
    "\n",
    "jack_or_spade_prob = (jacks_count + num_spades - spade_jack) / total_cards\n",
    "\n",
    "print(f'Вероятность того что карта будет либо валет либо пиковая составляет: {jack_or_spade_prob:.4f}')"
   ]
  }
 ],
 "metadata": {
  "kernelspec": {
   "display_name": "Python 3",
   "language": "python",
   "name": "python3"
  },
  "language_info": {
   "codemirror_mode": {
    "name": "ipython",
    "version": 3
   },
   "file_extension": ".py",
   "mimetype": "text/x-python",
   "name": "python",
   "nbconvert_exporter": "python",
   "pygments_lexer": "ipython3",
   "version": "3.12.1"
  }
 },
 "nbformat": 4,
 "nbformat_minor": 2
}
