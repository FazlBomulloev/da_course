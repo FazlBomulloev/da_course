{
 "cells": [
  {
   "cell_type": "markdown",
   "metadata": {},
   "source": [
    "                            Bomulloev Fazliddin\n",
    "\n",
    "                            hw7_on_hypothesis_testing"
   ]
  },
  {
   "cell_type": "markdown",
   "metadata": {},
   "source": [
    "1. Производитель светодиодных лампочек заявляет что их продукция имеет средний срок службы в 2000 часов. Клиент считает что срок службы лампочек меньше заявляемого компанией. Чтобы проверить это клиент купил 50 лампочек производства этой компании и их средний срок службы составил 1980 часов, со стандартным отклонением в 66 часов. Проверьте гипотезы и вынесите заключение."
   ]
  },
  {
   "cell_type": "markdown",
   "metadata": {},
   "source": [
    "$H_0: \\mu = 2000$  \n",
    "$H_a: \\mu < 2000$\n"
   ]
  },
  {
   "cell_type": "code",
   "execution_count": 2,
   "metadata": {},
   "outputs": [
    {
     "name": "stdout",
     "output_type": "stream",
     "text": [
      "Z-статистика: -2.14\n",
      "Критическое значение Z: -1.64\n",
      "P-значение: 0.0161\n",
      "Отклоняем H0: Средний срок службы лампочек действительно меньше 2000 часов.\n"
     ]
    }
   ],
   "source": [
    "from scipy import stats\n",
    "import numpy as np\n",
    "\n",
    "x_bar = 1980   \n",
    "mu_0 = 2000    \n",
    "s = 66    \n",
    "n = 50      \n",
    "alpha = 0.05  \n",
    "\n",
    "z_stat = (x_bar - mu_0) / (s / np.sqrt(n))\n",
    "z_critical = stats.norm.ppf(alpha)\n",
    "\n",
    "p_value = stats.norm.cdf(z_stat)\n",
    "print(f\"Z-статистика: {z_stat:.2f}\")\n",
    "print(f\"Критическое значение Z: {z_critical:.2f}\")\n",
    "print(f\"P-значение: {p_value:.4f}\")\n",
    "\n",
    "if p_value < alpha:\n",
    "    print(\"Отклоняем H0: Средний срок службы лампочек действительно меньше 2000 часов.\")\n",
    "else:\n",
    "    print(\"Нет оснований отвергать H0: Доказательств недостаточно.\")\n"
   ]
  },
  {
   "cell_type": "markdown",
   "metadata": {},
   "source": [
    "2. Фасовочная машина заполняет мешки рисом в среднем по 1000гр на мешок и стандартным отклонением в 5гр. У производителя есть подозрение, что машина фасует рис в среднем больше требуемого. Он поручил сделать выборку из 100 мешков и их средний вес оказался равным 1003гр. Оправданы ли подозрения производителя?"
   ]
  },
  {
   "cell_type": "markdown",
   "metadata": {},
   "source": [
    "$H_0: \\mu = 1000$   \n",
    "$H_a: \\mu > 1000$  \n"
   ]
  },
  {
   "cell_type": "code",
   "execution_count": 2,
   "metadata": {},
   "outputs": [
    {
     "name": "stdout",
     "output_type": "stream",
     "text": [
      "Z-статистика: 6.00\n",
      "Критическое значение Z: 1.64\n",
      "P-значение: 0.0000\n",
      "Отклоняем H0: Машина действительно фасует больше 1000 г.\n"
     ]
    }
   ],
   "source": [
    "x_bar = 1003   \n",
    "mu_0 = 1000    \n",
    "sigma = 5      \n",
    "n = 100        \n",
    "alpha = 0.05  \n",
    "\n",
    "z_stat = (x_bar - mu_0) / (sigma / np.sqrt(n))\n",
    "\n",
    "z_critical = stats.norm.ppf(1 - alpha)\n",
    "\n",
    "# p-значение\n",
    "p_value = 1 - stats.norm.cdf(z_stat)\n",
    "\n",
    "# Вывод результатов\n",
    "print(f\"Z-статистика: {z_stat:.2f}\")\n",
    "print(f\"Критическое значение Z: {z_critical:.2f}\")\n",
    "print(f\"P-значение: {p_value:.4f}\")\n",
    "\n",
    "if p_value < alpha:\n",
    "    print(\"Отклоняем H0: Машина действительно фасует больше 1000 г.\")\n",
    "else:\n",
    "    print(\"Нет оснований отвергать H0: Доказательств недостаточно.\")\n"
   ]
  },
  {
   "cell_type": "markdown",
   "metadata": {},
   "source": [
    "3. Утверждается что домашние коты живут в среднем 15.7 лет. Учёный решил проверить истинность этого утверждения и замерил срок жизни 40 домашних котов в своём городе. Средний срок жизни котов в выборке оказался равным 16.5 годам со стандартным отклонением в 1.6 лет. Значит ли это, что коты в среднем живут дольше чем принято считать?"
   ]
  },
  {
   "cell_type": "markdown",
   "metadata": {},
   "source": [
    "$H_0: \\mu = 15.7$   \n",
    "$H_a: \\mu > 15.7$  "
   ]
  },
  {
   "cell_type": "code",
   "execution_count": 3,
   "metadata": {},
   "outputs": [
    {
     "name": "stdout",
     "output_type": "stream",
     "text": [
      "t-статистика: 3.16\n",
      "Критическое значение t: 1.68\n",
      "P-значение: 0.0015\n",
      "Отклоняем H0: Коты живут дольше, чем утверждается.\n"
     ]
    }
   ],
   "source": [
    "x_bar = 16.5   \n",
    "mu_0 = 15.7  \n",
    "s = 1.6     \n",
    "n = 40       \n",
    "alpha = 0.05  \n",
    "\n",
    "t_stat = (x_bar - mu_0) / (s / np.sqrt(n))\n",
    "t_critical = stats.t.ppf(1 - alpha, df=n - 1)\n",
    "\n",
    "p_value = 1 - stats.t.cdf(t_stat, df=n - 1)\n",
    "\n",
    "print(f\"t-статистика: {t_stat:.2f}\")\n",
    "print(f\"Критическое значение t: {t_critical:.2f}\")\n",
    "print(f\"P-значение: {p_value:.4f}\")\n",
    "\n",
    "if p_value < alpha:\n",
    "    print(\"Отклоняем H0: Коты живут дольше, чем утверждается.\")\n",
    "else:\n",
    "    print(\"Нет оснований отвергать H0: Доказательств недостаточно.\")\n"
   ]
  },
  {
   "cell_type": "markdown",
   "metadata": {},
   "source": [
    "Здоровый новорожденный весит в среднем 3.40кг со стандартным отклонением в 0.45кг. Выборка из 49 новорожденных была взвешена и средний вес оказался равным 3.29кг. Проверьте следующие гипотезы: Ho:μ=3.4 и Ha:μ<3.4"
   ]
  },
  {
   "cell_type": "markdown",
   "metadata": {},
   "source": [
    "$H_0: \\mu = 3.4$   \n",
    "$H_a: \\mu < 3.4$  "
   ]
  },
  {
   "cell_type": "code",
   "execution_count": 4,
   "metadata": {},
   "outputs": [
    {
     "name": "stdout",
     "output_type": "stream",
     "text": [
      "z-статистика: -1.71\n",
      "Критическое значение z: -1.64\n",
      "P-значение: 0.0435\n",
      "Отклоняем H0: Средний вес новорожденных меньше 3.4 кг.\n"
     ]
    }
   ],
   "source": [
    "x_bar = 3.29\n",
    "mu_0 = 3.4\n",
    "sigma = 0.45\n",
    "n = 49\n",
    "alpha = 0.05\n",
    "\n",
    "z_stat = (x_bar - mu_0) / (sigma / np.sqrt(n))\n",
    "z_critical = stats.norm.ppf(alpha)\n",
    "p_value = stats.norm.cdf(z_stat)\n",
    "\n",
    "print(f\"z-статистика: {z_stat:.2f}\")\n",
    "print(f\"Критическое значение z: {z_critical:.2f}\")\n",
    "print(f\"P-значение: {p_value:.4f}\")\n",
    "\n",
    "if p_value < alpha:\n",
    "    print(\"Отклоняем H0: Средний вес новорожденных меньше 3.4 кг.\")\n",
    "else:\n",
    "    print(\"Нет оснований отвергать H0: Средний вес не отличается от 3.4 кг.\")\n"
   ]
  },
  {
   "cell_type": "markdown",
   "metadata": {},
   "source": [
    "5. В популяции средний показатель IQ составляет 100 со стандартным отклонением 15. Команда ученых хочет проверить новое лекарство, чтобы выяснить, оказывает ли оно положительное или отрицательное влияние на интеллект, или же не оказывает никакого эффекта. В выборке из 30 участников, которые принимали лекарство, средний показатель IQ составил 140. Повлияло ли лекарство на интеллект?"
   ]
  },
  {
   "cell_type": "markdown",
   "metadata": {},
   "source": [
    "$H_0: \\mu = 100$   \n",
    "$H_a: \\mu \\neq 100$  "
   ]
  },
  {
   "cell_type": "code",
   "execution_count": 6,
   "metadata": {},
   "outputs": [
    {
     "name": "stdout",
     "output_type": "stream",
     "text": [
      "z-статистика: 14.61\n",
      "Критическое значение z: 1.96\n",
      "P-значение: 0.0\n",
      "Отклоняем H0: Лекарство оказало влияние на интеллект.\n"
     ]
    }
   ],
   "source": [
    "x_bar = 140\n",
    "mu_0 = 100\n",
    "sigma = 15\n",
    "n = 30\n",
    "alpha = 0.05\n",
    "\n",
    "z_stat = (x_bar - mu_0) / (sigma / np.sqrt(n))\n",
    "z_critical = stats.norm.ppf(1 - alpha / 2)\n",
    "p_value = 2 * (1 - stats.norm.cdf(abs(z_stat)))\n",
    "\n",
    "print(f\"z-статистика: {z_stat:.2f}\")\n",
    "print(f\"Критическое значение z: {z_critical:.2f}\")\n",
    "print(f\"P-значение: {p_value}\")\n",
    "\n",
    "if p_value < alpha:\n",
    "    print(\"Отклоняем H0: Лекарство оказало влияние на интеллект.\")\n",
    "else:\n",
    "    print(\"Нет оснований отвергать H0: Лекарство не оказало влияния на интеллект.\")\n"
   ]
  },
  {
   "cell_type": "markdown",
   "metadata": {},
   "source": []
  }
 ],
 "metadata": {
  "kernelspec": {
   "display_name": "Python 3",
   "language": "python",
   "name": "python3"
  },
  "language_info": {
   "codemirror_mode": {
    "name": "ipython",
    "version": 3
   },
   "file_extension": ".py",
   "mimetype": "text/x-python",
   "name": "python",
   "nbconvert_exporter": "python",
   "pygments_lexer": "ipython3",
   "version": "3.12.1"
  }
 },
 "nbformat": 4,
 "nbformat_minor": 2
}
