{
 "cells": [
  {
   "cell_type": "markdown",
   "metadata": {},
   "source": [
    "                                        Bomulloev Fazliddin\n",
    "\n",
    "                                        Homework 3"
   ]
  },
  {
   "cell_type": "markdown",
   "metadata": {},
   "source": [
    "1. В колоде 52 карты. Вы поочерёдно вытаскиваете из колоды две карты, без возврата. Какова вероятность того, что вы вытащите два туза?"
   ]
  },
  {
   "cell_type": "code",
   "execution_count": 2,
   "metadata": {},
   "outputs": [
    {
     "name": "stdout",
     "output_type": "stream",
     "text": [
      "Вероятность вытащить 2 туза составляет 0.0045\n"
     ]
    }
   ],
   "source": [
    "from math import factorial\n",
    "\n",
    "cards_count = 52\n",
    "aces = 4\n",
    "\n",
    "first_ace_prob = aces / cards_count\n",
    "second_ace_prob = (aces - 1) / (cards_count - 1)\n",
    "total_prob = first_ace_prob * second_ace_prob\n",
    "\n",
    "print(f'Вероятность вытащить 2 туза составляет {total_prob:.4f}')"
   ]
  },
  {
   "cell_type": "markdown",
   "metadata": {},
   "source": [
    "2. Ваш друг просыпается поздно в среднем четыре дня из пяти. Если он просыпается поздно, он опаздывает на работу с вероятностью 70%. Если же он просыпается вовремя, он опаздывает с вероятностью 10%. Какова вероятность того, что ваш друг опоздает на работу?"
   ]
  },
  {
   "cell_type": "code",
   "execution_count": 3,
   "metadata": {},
   "outputs": [
    {
     "name": "stdout",
     "output_type": "stream",
     "text": [
      "Вероятность того, что друг опоздает на работу: 0.58\n"
     ]
    }
   ],
   "source": [
    "P_B = 0.8  # Вероятность проснуться поздно\n",
    "P_not_B = 0.2  # Вероятность проснуться вовремя\n",
    "P_A_given_B = 0.7  # Вероятность опоздать, если проснулся поздно\n",
    "P_A_given_not_B = 0.1  # Вероятность опоздать, если проснулся вовремя\n",
    "\n",
    "P_A = P_A_given_B * P_B + P_A_given_not_B * P_not_B\n",
    "\n",
    "print(f\"Вероятность того, что друг опоздает на работу: {P_A:.2f}\")\n"
   ]
  },
  {
   "cell_type": "markdown",
   "metadata": {},
   "source": [
    "3. В мешке содержатся 3 белых шара, 4 зелёных шара и 5 красных шаров. Вы вытаскиваете поочерёдно два шара из мешка, без возврата. Какова вероятность того, что вы вытащите зелёный и красный шары в любом порядке?"
   ]
  },
  {
   "cell_type": "code",
   "execution_count": 5,
   "metadata": {},
   "outputs": [
    {
     "name": "stdout",
     "output_type": "stream",
     "text": [
      "Вероятность: 0.303\n"
     ]
    }
   ],
   "source": [
    "white_balloons = 3\n",
    "green_balloons = 4\n",
    "red_balloons = 5\n",
    "\n",
    "total = white_balloons + green_balloons + red_balloons\n",
    "\n",
    "total_combinations = (total * (total - 1)) / 2\n",
    "fav_comb = green_balloons * red_balloons\n",
    "probability = fav_comb / total_combinations\n",
    "\n",
    "print(f'Вероятность: {probability:.3f}')"
   ]
  },
  {
   "cell_type": "markdown",
   "metadata": {},
   "source": [
    "4. На фабрике по производству чипсов 98% всех упаковок содержат вкусовые добавки. В рамках испытаний, группе добровольцев было предложено попробовать чипсы и определить имеются ли в них вкусовые добавки. 99% испытуемых попробовав чипсы со вкусовыми добавками ответили \"Да\". При этом, 2.5% испытуемых, которым были поданы чипсы без вкусовых добавок, также ответили \"Да\" . Если попробовав рандомно выбранную упаковку, испытуемый отвечает \"Нет\", какова вероятность того что чипсы действительно не содержат вкусовых добавок?"
   ]
  },
  {
   "cell_type": "code",
   "execution_count": 6,
   "metadata": {},
   "outputs": [
    {
     "name": "stdout",
     "output_type": "stream",
     "text": [
      "Вероятность того, что чипсы не содержат вкусовых добавок, если ответ 'Нет': 0.6655\n"
     ]
    }
   ],
   "source": [
    "P_A = 0.02  # Вероятность, что упаковка не содержит вкусовых добавок\n",
    "P_not_A = 0.98  # Вероятность, что упаковка содержит вкусовые добавки\n",
    "P_B_given_A = 0.975  # Вероятность, что испытуемый ответит \"Нет\", если упаковка не содержит добавок\n",
    "P_B_given_not_A = 0.01  # Вероятность, что испытуемый ответит \"Нет\", если упаковка содержит добавки\n",
    "\n",
    "P_B = P_B_given_A * P_A + P_B_given_not_A * P_not_A\n",
    "P_A_given_B = (P_B_given_A * P_A) / P_B\n",
    "\n",
    "print(f\"Вероятность того, что чипсы не содержат вкусовых добавок, если ответ 'Нет': {P_A_given_B:.4f}\")\n"
   ]
  },
  {
   "cell_type": "markdown",
   "metadata": {},
   "source": [
    "5. Известно что движок некоей модели автомобиля перегревается в 3% случаев. При перегреве движка, в 98% случаев включается индикатор оповещения. Однако, в 1% случаев, индикатор включается без перегрева. Ответьте на следующие вопросы:\n",
    "какова вероятность включения индикатора?\n",
    "если водитель видит включённый индикатор, какова вероятность того что движок действительно перегрелся?"
   ]
  },
  {
   "cell_type": "code",
   "execution_count": 7,
   "metadata": {},
   "outputs": [
    {
     "name": "stdout",
     "output_type": "stream",
     "text": [
      "Вероятность включения индикатора: 0.0391\n",
      "Вероятность перегрева двигателя, если индикатор включён: 0.7519\n"
     ]
    }
   ],
   "source": [
    "P_P = 0.03  # Вероятность перегрева двигателя\n",
    "P_not_P = 0.97  # Вероятность того, что двигатель не перегреется\n",
    "P_I_given_P = 0.98  # Вероятность включения индикатора при перегреве\n",
    "P_I_given_not_P = 0.01  # Вероятность включения индикатора при отсутствии перегрева\n",
    "\n",
    "P_I = P_I_given_P * P_P + P_I_given_not_P * P_not_P\n",
    "P_P_given_I = (P_I_given_P * P_P) / P_I\n",
    "\n",
    "print(f\"Вероятность включения индикатора: {P_I:.4f}\")\n",
    "print(f\"Вероятность перегрева двигателя, если индикатор включён: {P_P_given_I:.4f}\")\n"
   ]
  }
 ],
 "metadata": {
  "kernelspec": {
   "display_name": "Python 3",
   "language": "python",
   "name": "python3"
  },
  "language_info": {
   "codemirror_mode": {
    "name": "ipython",
    "version": 3
   },
   "file_extension": ".py",
   "mimetype": "text/x-python",
   "name": "python",
   "nbconvert_exporter": "python",
   "pygments_lexer": "ipython3",
   "version": "3.12.1"
  }
 },
 "nbformat": 4,
 "nbformat_minor": 2
}
