{
 "cells": [
  {
   "cell_type": "markdown",
   "metadata": {},
   "source": [
    "                            Bomulloev Fazliddin\n",
    "                            Homework 20\n",
    "                            \n",
    "                            "
   ]
  },
  {
   "cell_type": "markdown",
   "metadata": {},
   "source": [
    "1. Имеется следующая выборка [6, 8, 11, 11, 17, 21, 34, 35, 41, 42, 43, 46, 54, 54, 59, 62], где каждое наблюдение это возраст человека. Какова точечная оценка среднего значения и стандартного отклонения популяции?"
   ]
  },
  {
   "cell_type": "code",
   "execution_count": 1,
   "metadata": {},
   "outputs": [
    {
     "name": "stdout",
     "output_type": "stream",
     "text": [
      "Точечная оценка среднего: 34.00\n",
      "Точечная оценка стандартного отклонения популяции: 18.58\n"
     ]
    }
   ],
   "source": [
    "import numpy as np\n",
    "data = [6, 8, 11, 11, 17, 21, 34, 35, 41, 42, 43, 46, 54, 54, 59, 62]\n",
    "\n",
    "mean_estimate = np.mean(data)\n",
    "std_population = np.std(data, ddof=0)\n",
    "\n",
    "print(f\"Точечная оценка среднего: {mean_estimate:.2f}\")\n",
    "print(f\"Точечная оценка стандартного отклонения популяции: {std_population:.2f}\")\n"
   ]
  },
  {
   "cell_type": "markdown",
   "metadata": {},
   "source": [
    "2. 24% всех производимых шоколадных драже M&M's красятся в синий цвет. В стандартном пакете чаще всего содержится 17 драже. Какова вероятность, что в купленном вами в магазине пакетике, доля синих драже будет больше 40%?"
   ]
  },
  {
   "cell_type": "code",
   "execution_count": 2,
   "metadata": {},
   "outputs": [
    {
     "name": "stdout",
     "output_type": "stream",
     "text": [
      "Вероятность, что доля синих драже > 40%: 0.0612\n"
     ]
    }
   ],
   "source": [
    "from scipy import stats\n",
    "p = 0.24       \n",
    "n = 17         \n",
    "p_hat = 0.40   \n",
    "\n",
    "mu_p = p\n",
    "sigma_p = (p * (1 - p) / n) ** 0.5\n",
    "z_value = (p_hat - mu_p) / sigma_p\n",
    "\n",
    "probability = 1 - stats.norm.cdf(z_value)\n",
    "\n",
    "print(f\"Вероятность, что доля синих драже > 40%: {probability:.4f}\")\n"
   ]
  },
  {
   "cell_type": "markdown",
   "metadata": {},
   "source": [
    "3. 64 мужчины были выбраны случайным образом и их веса были измерены. Среднее значение выборки составило 84 кг, а стандартное отклонение - 24 кг. Рассчитайте доверительный интервал для среднего значения популяции с 90%-м уровнем доверия."
   ]
  },
  {
   "cell_type": "code",
   "execution_count": 3,
   "metadata": {},
   "outputs": [
    {
     "name": "stdout",
     "output_type": "stream",
     "text": [
      "90%-й доверительный интервал: (79.07, 88.93)\n"
     ]
    }
   ],
   "source": [
    "x_bar = 84   \n",
    "s = 24       \n",
    "n = 64       \n",
    "alpha = 0.10 \n",
    "\n",
    "z_critical = stats.norm.ppf(1 - alpha / 2)\n",
    "\n",
    "se = s / np.sqrt(n)\n",
    "\n",
    "lower_bound = x_bar - z_critical * se\n",
    "upper_bound = x_bar + z_critical * se\n",
    "\n",
    "print(f\"90%-й доверительный интервал: ({lower_bound:.2f}, {upper_bound:.2f})\")\n"
   ]
  },
  {
   "cell_type": "markdown",
   "metadata": {},
   "source": [
    "4. В 2003 году Дартмутская Медицинская Школа запустила исследование для изучения связи между просмотром фильмов с курящими актёрами и началом курения среди подростков. В исследовании были случайным образом отобраны 6522 американских подростка в возрасте 10-14 лет, которые никогда не пробовали курить до этого. Из тех, кто впоследствии попробовал курить впервые, 38% сделали это из-за воздействия курения в фильмах. Оцените долю всех американских подростков в возрасте 10-14 лет, которые начали курить из-за просмотра курящих актеров в фильмах, построив 95% доверительный интервал."
   ]
  },
  {
   "cell_type": "code",
   "execution_count": 5,
   "metadata": {},
   "outputs": [
    {
     "name": "stdout",
     "output_type": "stream",
     "text": [
      "95%-й доверительный интервал: (36.82%, 39.18%)\n"
     ]
    }
   ],
   "source": [
    "p_hat = 0.38 \n",
    "n = 6522      \n",
    "alpha = 0.05  \n",
    "\n",
    "z_critical = stats.norm.ppf(1 - alpha / 2)\n",
    "se = np.sqrt(p_hat * (1 - p_hat) / n)\n",
    "\n",
    "lower_bound = p_hat - z_critical * se\n",
    "upper_bound = p_hat + z_critical * se\n",
    "\n",
    "print(f\"95%-й доверительный интервал: ({lower_bound:.2%}, {upper_bound:.2%})\")\n"
   ]
  },
  {
   "cell_type": "markdown",
   "metadata": {},
   "source": [
    "5. 49 женщин, были выбраны случайным образом и их высота была измерена. Среднее значение выборки составило 164 см, стандартное отклонение - 20 см. Рассчитайте доверительный интервал для среднего значения популяции с 95%-м уровнем доверия.\n"
   ]
  },
  {
   "cell_type": "code",
   "execution_count": 6,
   "metadata": {},
   "outputs": [
    {
     "name": "stdout",
     "output_type": "stream",
     "text": [
      "95%-й доверительный интервал: (158.40 см, 169.60 см)\n"
     ]
    }
   ],
   "source": [
    "x_bar = 164   \n",
    "s = 20        \n",
    "n = 49       \n",
    "alpha = 0.05  \n",
    "\n",
    "z_critical = stats.norm.ppf(1 - alpha / 2)\n",
    "se = s / np.sqrt(n)\n",
    "\n",
    "lower_bound = x_bar - z_critical * se\n",
    "upper_bound = x_bar + z_critical * se\n",
    "\n",
    "print(f\"95%-й доверительный интервал: ({lower_bound:.2f} см, {upper_bound:.2f} см)\")\n"
   ]
  }
 ],
 "metadata": {
  "kernelspec": {
   "display_name": "Python 3",
   "language": "python",
   "name": "python3"
  },
  "language_info": {
   "codemirror_mode": {
    "name": "ipython",
    "version": 3
   },
   "file_extension": ".py",
   "mimetype": "text/x-python",
   "name": "python",
   "nbconvert_exporter": "python",
   "pygments_lexer": "ipython3",
   "version": "3.12.1"
  }
 },
 "nbformat": 4,
 "nbformat_minor": 2
}
