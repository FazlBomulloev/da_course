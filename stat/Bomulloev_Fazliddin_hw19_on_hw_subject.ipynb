{
 "cells": [
  {
   "cell_type": "markdown",
   "metadata": {},
   "source": [
    "                            Bomulloev Fazliddin\n",
    "                            Homework 19\n",
    "                            "
   ]
  },
  {
   "cell_type": "markdown",
   "metadata": {},
   "source": [
    "1. Есть переменная X с нормальным распределением. Если стандартизированное значение X равно 1.27 (z = 1.27), то какова вероятность P(Z≤1.27) ?"
   ]
  },
  {
   "cell_type": "code",
   "execution_count": 2,
   "metadata": {},
   "outputs": [
    {
     "name": "stdout",
     "output_type": "stream",
     "text": [
      "P(Z <= 1.27) = 0.898\n"
     ]
    }
   ],
   "source": [
    "from scipy import stats\n",
    "\n",
    "z = 1.27\n",
    "probability = stats.norm.cdf(z)\n",
    "print(f\"P(Z <= {z}) = {probability:.3f}\")\n"
   ]
  },
  {
   "cell_type": "markdown",
   "metadata": {},
   "source": [
    "2. Допустим что Z это переменная со стандартным нормальным распределением. Какова вероятность P(−1.76<Z<−1.19)?"
   ]
  },
  {
   "cell_type": "code",
   "execution_count": 3,
   "metadata": {},
   "outputs": [
    {
     "name": "stdout",
     "output_type": "stream",
     "text": [
      "P(-1.76 < Z < -1.19) = 0.0778\n"
     ]
    }
   ],
   "source": [
    "z1 = -1.19\n",
    "z2 = -1.76\n",
    "probability_z1 = stats.norm.cdf(z1)\n",
    "probability_z2 = stats.norm.cdf(z2)\n",
    "probability = probability_z1 - probability_z2\n",
    "print(f\"P(-1.76 < Z < -1.19) = {probability:.4f}\")"
   ]
  },
  {
   "cell_type": "markdown",
   "metadata": {},
   "source": [
    "3. У 95.45% девушек старших классов, вес находится в диапазоне от 38кг до 52кг. Если предположить, что вес девушек распределён нормально, найдите среднее значение и стандартное отклонение."
   ]
  },
  {
   "cell_type": "code",
   "execution_count": 4,
   "metadata": {},
   "outputs": [
    {
     "name": "stdout",
     "output_type": "stream",
     "text": [
      "Среднее значение (mu) = 45.0 кг\n",
      "Стандартное отклонение (sigma) = 7.0 кг\n"
     ]
    }
   ],
   "source": [
    "lower_bound = 38  \n",
    "upper_bound = 52 \n",
    "mu = (lower_bound + upper_bound) / 2\n",
    "sigma = (upper_bound - lower_bound) / 2\n",
    "print(f\"Среднее значение (mu) = {mu} кг\")\n",
    "print(f\"Стандартное отклонение (sigma) = {sigma} кг\")\n"
   ]
  },
  {
   "cell_type": "markdown",
   "metadata": {},
   "source": [
    "4. Длина указательного пальца взрослых мужчин примерно соответствует нормальному распределению, с μ=7.5cm и \n",
    "σ= 0.5cm. Какова вероятность того, что длина указательного пальца случайно выбранного мужчины будет в диапазоне от 7.3см до 8,7см?"
   ]
  },
  {
   "cell_type": "code",
   "execution_count": 5,
   "metadata": {},
   "outputs": [
    {
     "name": "stdout",
     "output_type": "stream",
     "text": [
      "P(7.3 ≤ X ≤ 8.7) = 0.6472\n"
     ]
    }
   ],
   "source": [
    "mu = 7.5   \n",
    "sigma = 0.5  \n",
    "x1 = 7.3\n",
    "x2 = 8.7\n",
    "p1 = stats.norm.cdf((x1 - mu) / sigma)\n",
    "p2 = stats.norm.cdf((x2 - mu) / sigma)\n",
    "probability = p2 - p1\n",
    "print(f\"P(7.3 ≤ X ≤ 8.7) = {probability:.4f}\")\n"
   ]
  },
  {
   "cell_type": "markdown",
   "metadata": {},
   "source": [
    "5. IQ человека является нормально распределённой величиной с μ=100 и σ=15. Какова вероятность того, что у случайно выбранного человека IQ будет выше 140?"
   ]
  },
  {
   "cell_type": "code",
   "execution_count": 6,
   "metadata": {},
   "outputs": [
    {
     "name": "stdout",
     "output_type": "stream",
     "text": [
      "P(X > 140) = 0.0038\n"
     ]
    }
   ],
   "source": [
    "mu = 100 \n",
    "sigma = 15\n",
    "x = 140   \n",
    "probability = 1 - stats.norm.cdf((x - mu) / sigma)\n",
    "print(f\"P(X > 140) = {probability:.4f}\")\n"
   ]
  }
 ],
 "metadata": {
  "kernelspec": {
   "display_name": "Python 3",
   "language": "python",
   "name": "python3"
  },
  "language_info": {
   "codemirror_mode": {
    "name": "ipython",
    "version": 3
   },
   "file_extension": ".py",
   "mimetype": "text/x-python",
   "name": "python",
   "nbconvert_exporter": "python",
   "pygments_lexer": "ipython3",
   "version": "3.12.1"
  }
 },
 "nbformat": 4,
 "nbformat_minor": 2
}
